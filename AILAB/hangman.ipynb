{
  "nbformat": 4,
  "nbformat_minor": 0,
  "metadata": {
    "colab": {
      "provenance": []
    },
    "kernelspec": {
      "name": "python3",
      "display_name": "Python 3"
    },
    "language_info": {
      "name": "python"
    }
  },
  "cells": [
    {
      "cell_type": "code",
      "execution_count": null,
      "metadata": {
        "colab": {
          "base_uri": "https://localhost:8080/"
        },
        "id": "DoA-HMvCTXYQ",
        "outputId": "8abab88b-f0f4-43c4-835a-eff493377c3f"
      },
      "outputs": [
        {
          "output_type": "stream",
          "name": "stdout",
          "text": [
            "What is your name? ayush\\\n",
            "Hello, ayush\\ Time to play hangman!\n",
            "Start guessing...\n",
            "______guess a character:s\n",
            "s_____guess a character:e\n",
            "se__e_guess a character:c\n",
            "sec_e_guess a character:r\n",
            "secre_guess a character:t\n",
            "secretYou won\n"
          ]
        }
      ],
      "source": [
        "\n",
        "import time\n",
        "\n",
        "\n",
        "name = input(\"What is your name? \")\n",
        "\n",
        "print (\"Hello, \" + name, \"Time to play hangman!\")\n",
        "\n",
        "\n",
        "time.sleep(1)\n",
        "\n",
        "print (\"Start guessing...\")\n",
        "time.sleep(0.5)\n",
        "\n",
        "\n",
        "word = (\"secret\")\n",
        "\n",
        "\n",
        "guesses = ''\n",
        "\n",
        "\n",
        "turns = 10\n",
        "\n",
        "\n",
        "\n",
        "\n",
        "while turns > 0:         \n",
        "\n",
        "    \n",
        "    failed = 0             \n",
        "\n",
        "        \n",
        "    for char in word:      \n",
        "\n",
        "   \n",
        "        if char in guesses:    \n",
        "    \n",
        "        \n",
        "            print (char,end=\"\"),    \n",
        "\n",
        "        else:\n",
        "    \n",
        "       \n",
        "            print (\"_\",end=\"\"),     \n",
        "       \n",
        "        \n",
        "            failed += 1    \n",
        "\n",
        "    \n",
        "\n",
        "    \n",
        "    if failed == 0:        \n",
        "        print (\"You won\")\n",
        "    \n",
        "        break            \n",
        "    \n",
        "    guess = input(\"guess a character:\") \n",
        "\n",
        "    \n",
        "    guesses += guess                    \n",
        "\n",
        "    \n",
        "    if guess not in word:  \n",
        " \n",
        "     \n",
        "        turns -= 1        \n",
        " \n",
        "    \n",
        "        print (\"Wrong\")  \n",
        " \n",
        "    \n",
        "        print (\"You have\", + turns, 'more guesses' )\n",
        " \n",
        "    \n",
        "        if turns == 0:           \n",
        "    \n",
        "        \n",
        "            print (\"You Lose\"  )"
      ]
    }
  ]
}